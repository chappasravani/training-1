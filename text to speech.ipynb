{
 "cells": [
  {
   "cell_type": "code",
   "execution_count": 9,
   "id": "96f49a69-9e56-4794-ad3f-7c0a839700c7",
   "metadata": {},
   "outputs": [
    {
     "name": "stdout",
     "output_type": "stream",
     "text": [
      "Requirement already satisfied: gTTS in c:\\users\\chapp\\anaconda3\\lib\\site-packages (2.5.4)\n",
      "Requirement already satisfied: requests<3,>=2.27 in c:\\users\\chapp\\anaconda3\\lib\\site-packages (from gTTS) (2.32.3)\n",
      "Requirement already satisfied: click<8.2,>=7.1 in c:\\users\\chapp\\anaconda3\\lib\\site-packages (from gTTS) (8.1.7)\n",
      "Requirement already satisfied: colorama in c:\\users\\chapp\\anaconda3\\lib\\site-packages (from click<8.2,>=7.1->gTTS) (0.4.6)\n",
      "Requirement already satisfied: charset-normalizer<4,>=2 in c:\\users\\chapp\\anaconda3\\lib\\site-packages (from requests<3,>=2.27->gTTS) (3.3.2)\n",
      "Requirement already satisfied: idna<4,>=2.5 in c:\\users\\chapp\\anaconda3\\lib\\site-packages (from requests<3,>=2.27->gTTS) (2.10)\n",
      "Requirement already satisfied: urllib3<3,>=1.21.1 in c:\\users\\chapp\\anaconda3\\lib\\site-packages (from requests<3,>=2.27->gTTS) (2.2.3)\n",
      "Requirement already satisfied: certifi>=2017.4.17 in c:\\users\\chapp\\anaconda3\\lib\\site-packages (from requests<3,>=2.27->gTTS) (2024.8.30)\n"
     ]
    }
   ],
   "source": [
    "!pip install gTTS"
   ]
  },
  {
   "cell_type": "code",
   "execution_count": 2,
   "id": "dd5d9caa-70d7-46d0-bc55-06bb5fcf92fb",
   "metadata": {},
   "outputs": [],
   "source": [
    "from gtts import gTTS"
   ]
  },
  {
   "cell_type": "code",
   "execution_count": 3,
   "id": "73e6c2c8-0b39-4c20-bcb4-3cef8529ec7c",
   "metadata": {},
   "outputs": [],
   "source": [
    "convert=gTTS(text='I like this NLP. How about dude!', lang=\"en\", slow=False)\n",
    "convert.save(\"audio.mp3\")"
   ]
  },
  {
   "cell_type": "code",
   "execution_count": 4,
   "id": "825b3a63-70a2-4cf5-9f80-84e85344905c",
   "metadata": {},
   "outputs": [
    {
     "name": "stdout",
     "output_type": "stream",
     "text": [
      "Requirement already satisfied: pyttsx3 in c:\\users\\chapp\\anaconda3\\lib\\site-packages (2.98)\n",
      "Requirement already satisfied: comtypes in c:\\users\\chapp\\anaconda3\\lib\\site-packages (from pyttsx3) (1.4.10)\n",
      "Requirement already satisfied: pypiwin32 in c:\\users\\chapp\\anaconda3\\lib\\site-packages (from pyttsx3) (223)\n",
      "Requirement already satisfied: pywin32 in c:\\users\\chapp\\anaconda3\\lib\\site-packages (from pyttsx3) (305.1)\n"
     ]
    }
   ],
   "source": [
    "!pip install pyttsx3"
   ]
  },
  {
   "cell_type": "code",
   "execution_count": 5,
   "id": "a5e9f010-b304-42c9-b633-1a40bdf8f0d2",
   "metadata": {},
   "outputs": [],
   "source": [
    "import pyttsx3, time\n",
    "engine=pyttsx3.init()\n",
    "engine.say(\"Hi, Iam text to speech\")\n",
    "engine.runAndWait()"
   ]
  },
  {
   "cell_type": "code",
   "execution_count": 6,
   "id": "111db44f-2d47-4db8-be9a-aa8d6e052fba",
   "metadata": {},
   "outputs": [],
   "source": [
    "text=['This is introduction to NLP','It is likely to be useful, to people',\n",
    "'Machine learning is the new electrcity', 'There would be less hype around Al and more action going forward', \n",
    "'python is the best tool!','R is good langauage','I like this book',\n",
    "'I want more books like this']"
   ]
  },
  {
   "cell_type": "code",
   "execution_count": 7,
   "id": "577bb283-fb3b-4e61-b4e9-f019eb1bba78",
   "metadata": {},
   "outputs": [],
   "source": [
    "engine=pyttsx3.init()\n",
    "engine.say(text[0])\n",
    "engine.runAndWait()"
   ]
  },
  {
   "cell_type": "code",
   "execution_count": 19,
   "id": "1c66a850-ed3f-45c6-bfc6-4f99b63af1ff",
   "metadata": {},
   "outputs": [
    {
     "name": "stdout",
     "output_type": "stream",
     "text": [
      "200\n",
      "1.0\n"
     ]
    }
   ],
   "source": [
    "engine = pyttsx3.init() \n",
    "\"\"\"RATE\"\"\" \n",
    "rate = engine.getProperty('rate') \n",
    "print (rate)  \n",
    "engine.setProperty('rate', 180)  \n",
    "\"\"\"VOLUME\"\"\" \n",
    "volume = engine.getProperty('volume')  \n",
    "print (volume) \n",
    "engine.setProperty('volume', 1.0)  \n",
    "\"\"\"VOICE\"\"\" \n",
    "voices = engine.getProperty('voices')  \n",
    "engine.setProperty('voice', voices[1].id)  \n",
    "engine.say(\"Hello World!\") \n",
    "engine.say('My current speaking rate is ' + str(rate)) \n",
    "engine.say('My current speaking volume is' + str(volume)) \n",
    "engine.runAndWait() \n",
    "engine.stop()"
   ]
  },
  {
   "cell_type": "code",
   "execution_count": 21,
   "id": "9710a7c7-2418-42e9-9985-65edc45ff1e9",
   "metadata": {},
   "outputs": [
    {
     "name": "stdout",
     "output_type": "stream",
     "text": [
      "Requirement already satisfied: translate in c:\\users\\chapp\\anaconda3\\lib\\site-packages (3.6.1)\n",
      "Requirement already satisfied: click in c:\\users\\chapp\\anaconda3\\lib\\site-packages (from translate) (8.1.7)\n",
      "Requirement already satisfied: lxml in c:\\users\\chapp\\anaconda3\\lib\\site-packages (from translate) (5.2.1)\n",
      "Requirement already satisfied: requests in c:\\users\\chapp\\anaconda3\\lib\\site-packages (from translate) (2.32.3)\n",
      "Requirement already satisfied: libretranslatepy==2.1.1 in c:\\users\\chapp\\anaconda3\\lib\\site-packages (from translate) (2.1.1)\n",
      "Requirement already satisfied: colorama in c:\\users\\chapp\\anaconda3\\lib\\site-packages (from click->translate) (0.4.6)\n",
      "Requirement already satisfied: charset-normalizer<4,>=2 in c:\\users\\chapp\\anaconda3\\lib\\site-packages (from requests->translate) (3.3.2)\n",
      "Requirement already satisfied: idna<4,>=2.5 in c:\\users\\chapp\\anaconda3\\lib\\site-packages (from requests->translate) (2.10)\n",
      "Requirement already satisfied: urllib3<3,>=1.21.1 in c:\\users\\chapp\\anaconda3\\lib\\site-packages (from requests->translate) (2.2.3)\n",
      "Requirement already satisfied: certifi>=2017.4.17 in c:\\users\\chapp\\anaconda3\\lib\\site-packages (from requests->translate) (2024.8.30)\n"
     ]
    }
   ],
   "source": [
    "!pip install translate"
   ]
  },
  {
   "cell_type": "code",
   "execution_count": 29,
   "id": "b1350009-aa19-42fc-aa0b-9636a3a79770",
   "metadata": {},
   "outputs": [
    {
     "data": {
      "text/plain": [
       "'ఇది కలం.'"
      ]
     },
     "execution_count": 29,
     "metadata": {},
     "output_type": "execute_result"
    }
   ],
   "source": [
    "from translate import Translator\n",
    "translator=Translator(to_lang=\"te\")\n",
    "translation=translator.translate(\"This is a pen.\")\n",
    "translation"
   ]
  },
  {
   "cell_type": "code",
   "execution_count": 33,
   "id": "8f9724cb-467f-499d-a322-7dd404e8fa59",
   "metadata": {},
   "outputs": [
    {
     "name": "stdout",
     "output_type": "stream",
     "text": [
      "Collecting python-vlc\n",
      "  Downloading python_vlc-3.0.21203-py3-none-any.whl.metadata (4.1 kB)\n",
      "Downloading python_vlc-3.0.21203-py3-none-any.whl (87 kB)\n",
      "Installing collected packages: python-vlc\n",
      "Successfully installed python-vlc-3.0.21203\n"
     ]
    }
   ],
   "source": [
    "!pip install python-vlc"
   ]
  },
  {
   "cell_type": "code",
   "execution_count": 35,
   "id": "97791421-919e-4986-b9ab-1ed7f340249c",
   "metadata": {},
   "outputs": [
    {
     "data": {
      "text/plain": [
       "0"
      ]
     },
     "execution_count": 35,
     "metadata": {},
     "output_type": "execute_result"
    }
   ],
   "source": [
    "import vlc\n",
    "p=vlc.MediaPlayer(\"audio.mp3\")\n",
    "p.play()"
   ]
  },
  {
   "cell_type": "code",
   "execution_count": 37,
   "id": "405a318b-0557-4f01-8751-9bbc1c2b31d7",
   "metadata": {},
   "outputs": [
    {
     "name": "stdout",
     "output_type": "stream",
     "text": [
      "Collecting playsound\n",
      "  Downloading playsound-1.3.0.tar.gz (7.7 kB)\n",
      "  Preparing metadata (setup.py): started\n",
      "  Preparing metadata (setup.py): finished with status 'done'\n",
      "Building wheels for collected packages: playsound\n",
      "  Building wheel for playsound (setup.py): started\n",
      "  Building wheel for playsound (setup.py): finished with status 'done'\n",
      "  Created wheel for playsound: filename=playsound-1.3.0-py3-none-any.whl size=7044 sha256=bea740ccc8eb128b0dbbf49f125c942b52af598b1df231b684257827473da8cf\n",
      "  Stored in directory: c:\\users\\chapp\\appdata\\local\\pip\\cache\\wheels\\cf\\42\\ff\\7c587bae55eec67b909ca316b250d9b4daedbf272a3cbeb907\n",
      "Successfully built playsound\n",
      "Installing collected packages: playsound\n",
      "Successfully installed playsound-1.3.0\n"
     ]
    }
   ],
   "source": [
    "!pip install playsound"
   ]
  },
  {
   "cell_type": "code",
   "execution_count": 39,
   "id": "1b28703b-3b3b-4b7a-a8f1-1534c8dfbb1e",
   "metadata": {},
   "outputs": [
    {
     "name": "stdout",
     "output_type": "stream",
     "text": [
      "playing sound using playsound\n"
     ]
    }
   ],
   "source": [
    "import playsound as pl\n",
    "pl.playsound('audio.mp3')\n",
    "print('playing sound using playsound')"
   ]
  },
  {
   "cell_type": "code",
   "execution_count": 41,
   "id": "ac67ba24-da70-4ad7-b89c-95118d7dd095",
   "metadata": {},
   "outputs": [
    {
     "name": "stdout",
     "output_type": "stream",
     "text": [
      "Collecting SpeechRecognition\n",
      "  Downloading SpeechRecognition-3.14.1-py3-none-any.whl.metadata (31 kB)\n",
      "Requirement already satisfied: typing-extensions in c:\\users\\chapp\\anaconda3\\lib\\site-packages (from SpeechRecognition) (4.11.0)\n",
      "Downloading SpeechRecognition-3.14.1-py3-none-any.whl (32.9 MB)\n",
      "   ---------------------------------------- 0.0/32.9 MB ? eta -:--:--\n",
      "   ----- ---------------------------------- 4.5/32.9 MB 29.7 MB/s eta 0:00:01\n",
      "   ------------------ --------------------- 14.9/32.9 MB 40.8 MB/s eta 0:00:01\n",
      "   --------------------------- ------------ 22.8/32.9 MB 40.0 MB/s eta 0:00:01\n",
      "   ---------------------------------- ----- 28.3/32.9 MB 36.6 MB/s eta 0:00:01\n",
      "   ---------------------------------------  32.8/32.9 MB 35.9 MB/s eta 0:00:01\n",
      "   ---------------------------------------- 32.9/32.9 MB 32.6 MB/s eta 0:00:00\n",
      "Installing collected packages: SpeechRecognition\n",
      "Successfully installed SpeechRecognition-3.14.1\n"
     ]
    }
   ],
   "source": [
    "!pip install SpeechRecognition"
   ]
  },
  {
   "cell_type": "code",
   "execution_count": 43,
   "id": "81da2e87-f513-47ec-8ac6-f261d5bb28a2",
   "metadata": {},
   "outputs": [
    {
     "name": "stdout",
     "output_type": "stream",
     "text": [
      "Collecting PyAudio\n",
      "  Downloading PyAudio-0.2.14-cp312-cp312-win_amd64.whl.metadata (2.7 kB)\n",
      "Downloading PyAudio-0.2.14-cp312-cp312-win_amd64.whl (164 kB)\n",
      "Installing collected packages: PyAudio\n",
      "Successfully installed PyAudio-0.2.14\n"
     ]
    }
   ],
   "source": [
    "!pip install PyAudio"
   ]
  },
  {
   "cell_type": "code",
   "execution_count": 49,
   "id": "b246685e-29c5-426a-9e17-606dc0d045e3",
   "metadata": {},
   "outputs": [
    {
     "name": "stdout",
     "output_type": "stream",
     "text": [
      "Please say something\n",
      "I think you said: after running we also had\n"
     ]
    }
   ],
   "source": [
    "import speech_recognition as sr\n",
    "r=sr.Recognizer()\n",
    "with sr.Microphone() as source:\n",
    "    print(\"Please say something\")\n",
    "    audio=r.listen(source)\n",
    "try:\n",
    "    print(\"I think you said: \"+r.recognize_google(audio))\n",
    "except:\n",
    "    pass"
   ]
  },
  {
   "cell_type": "code",
   "execution_count": null,
   "id": "15746c3f-f653-4867-823a-759228b9910a",
   "metadata": {},
   "outputs": [],
   "source": []
  }
 ],
 "metadata": {
  "kernelspec": {
   "display_name": "Python 3 (ipykernel)",
   "language": "python",
   "name": "python3"
  },
  "language_info": {
   "codemirror_mode": {
    "name": "ipython",
    "version": 3
   },
   "file_extension": ".py",
   "mimetype": "text/x-python",
   "name": "python",
   "nbconvert_exporter": "python",
   "pygments_lexer": "ipython3",
   "version": "3.12.7"
  }
 },
 "nbformat": 4,
 "nbformat_minor": 5
}
