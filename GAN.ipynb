{
  "nbformat": 4,
  "nbformat_minor": 0,
  "metadata": {
    "colab": {
      "provenance": [],
      "gpuType": "T4"
    },
    "kernelspec": {
      "name": "python3",
      "display_name": "Python 3"
    },
    "language_info": {
      "name": "python"
    },
    "accelerator": "GPU"
  },
  "cells": [
    {
      "cell_type": "code",
      "execution_count": 1,
      "metadata": {
        "id": "eASziDNl8JVL"
      },
      "outputs": [],
      "source": [
        "import numpy as np\n",
        "import matplotlib.pyplot as plt\n",
        "from tqdm import tqdm\n",
        "from keras.layers import Input, Dense, Dropout, LeakyReLU\n",
        "from keras.models import Model, Sequential\n",
        "from keras.datasets import mnist\n",
        "from keras.optimizers import Adam\n",
        "from keras import initializers"
      ]
    },
    {
      "cell_type": "code",
      "source": [
        "np.random.seed(10)\n",
        "random_dim=100"
      ],
      "metadata": {
        "id": "20107afX9Bat"
      },
      "execution_count": 2,
      "outputs": []
    },
    {
      "cell_type": "code",
      "source": [
        "def load_mnist_dat():\n",
        "  (x_train,y_train),(x_test,y_test)=mnist.load_data()\n",
        "  x_train=(x_train.astype(np.float32) - 127.5)/127.5\n",
        "  x_train=x_train.reshape(60000, 784)\n",
        "  return(x_train,y_train,x_test,y_test)"
      ],
      "metadata": {
        "id": "KTlSpJM79Mmw"
      },
      "execution_count": 5,
      "outputs": []
    },
    {
      "cell_type": "code",
      "source": [
        "def get_optimizer():\n",
        "  return Adam(learning_rate=0.00002,beta_1=0.5)"
      ],
      "metadata": {
        "id": "wifoUlT9-Mek"
      },
      "execution_count": 6,
      "outputs": []
    },
    {
      "cell_type": "code",
      "source": [
        "def get_generator(optimizer):\n",
        "  generator = Sequential()\n",
        "  generator.add(Dense(256, input_dim=random_dim,\\\n",
        "                      kernel_initializer=initializers.RandomNormal (stddev=0.02)))\n",
        "  generator.add(LeakyReLU(0.2))\n",
        "  generator.add(Dense(512))\n",
        "  generator.add(LeakyReLU(0.2))\n",
        "  generator.add(Dense(1024))\n",
        "  generator.add(LeakyReLU(0.2))\n",
        "  generator.add(Dense (784, activation='tanh'))\n",
        "  generator.compile(loss='binary_crossentropy', optimizer= optimizer)\n",
        "  return generator"
      ],
      "metadata": {
        "id": "oPy4rytN_QyY"
      },
      "execution_count": 16,
      "outputs": []
    },
    {
      "cell_type": "code",
      "source": [
        "def get_discriminator(optimizer):\n",
        "  discriminator = Sequential()\n",
        "  discriminator.add(Dense (1024, input_dim=784,\\\n",
        "                           kernel_initializer=initializers.RandomNormal (stddev=0.02)))\n",
        "  discriminator.add(LeakyReLU(0.2))\n",
        "  discriminator.add(Dropout(0.3))\n",
        "  discriminator.add(Dense(512))\n",
        "  discriminator.add(LeakyReLU(0.2))\n",
        "  discriminator.add(Dropout(0.3))\n",
        "  discriminator.add(Dense(256))\n",
        "  discriminator.add(LeakyReLU(0.2))\n",
        "  discriminator.add(Dropout(0.3))\n",
        "  discriminator.add(Dense(1, activation='sigmoid'))\n",
        "  discriminator.compile(loss='binary_crossentropy', optimizer =optimizer)\n",
        "  return discriminator"
      ],
      "metadata": {
        "id": "iSXE3keMAPxD"
      },
      "execution_count": 20,
      "outputs": []
    },
    {
      "cell_type": "code",
      "source": [
        "def get_gan_network(discriminator, random_dim, generator, optimizer):\n",
        "  discriminator.trainable = False\n",
        "  discriminator.trainable=False\n",
        "  gan_input = Input(shape=(random_dim,))\n",
        "  x = generator(gan_input)\n",
        "  gan_output = discriminator(x)\n",
        "  gan = Model(inputs=gan_input, outputs=gan_output)\n",
        "  gan.compile(loss='binary_crossentropy', optimizer=optimizer)\n",
        "  return gan"
      ],
      "metadata": {
        "id": "p9nUg697Bhd2"
      },
      "execution_count": 21,
      "outputs": []
    },
    {
      "cell_type": "code",
      "source": [
        "def plot_generated_images(epoch, generator, examples=100, dim=(10, 10), \\\n",
        "                          figsize=(10, 10)):\n",
        "  noise = np.random.normal(0, 1, size=[examples, random_dim])\n",
        "  generated_images = generator.predict(noise)\n",
        "  generated_images = generated_images.reshape(examples, 28, 28)\n",
        "  plt.figure(figsize=figsize)\n",
        "  for i in range(generated_images.shape[0]):\n",
        "    plt.subplot(dim[0], dim[1], i+1)\n",
        "    plt.imshow(generated_images[i], interpolation='nearest',\\\n",
        "               cmap='gray_r')\n",
        "    plt.axis('off')\n",
        "    plt.tight_layout()\n",
        "    plt.savefig('gan_generated_image_epoch_%d.png' % epoch)"
      ],
      "metadata": {
        "id": "qx4Ep8WIDWIQ"
      },
      "execution_count": 25,
      "outputs": []
    },
    {
      "cell_type": "code",
      "source": [],
      "metadata": {
        "id": "CgZNcOdcGkcE"
      },
      "execution_count": null,
      "outputs": []
    }
  ]
}