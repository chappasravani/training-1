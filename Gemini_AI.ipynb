{
  "nbformat": 4,
  "nbformat_minor": 0,
  "metadata": {
    "colab": {
      "provenance": []
    },
    "kernelspec": {
      "name": "python3",
      "display_name": "Python 3"
    },
    "language_info": {
      "name": "python"
    }
  },
  "cells": [
    {
      "cell_type": "code",
      "source": [
        "%pip install -U -q \"google-generativeai>=0.7.2\""
      ],
      "metadata": {
        "id": "iPzWlVHwfpq8"
      },
      "execution_count": 2,
      "outputs": []
    },
    {
      "cell_type": "code",
      "source": [
        "import google.generativeai as genai\n",
        "from google.colab import userdata\n",
        "GOOGLE_API_KEY=userdata.get('google_API_Key')\n",
        "genai.configure(api_key=GOOGLE_API_KEY)"
      ],
      "metadata": {
        "id": "Nf0gM5pXgCXc"
      },
      "execution_count": 8,
      "outputs": []
    },
    {
      "cell_type": "code",
      "source": [
        "model=genai.GenerativeModel('models/gemini-2.0-flash')\n",
        "response=model.generate_content(\"Please give me python code to sort a list.\")\n",
        "print(response.text)"
      ],
      "metadata": {
        "colab": {
          "base_uri": "https://localhost:8080/",
          "height": 1000
        },
        "id": "Nib3lgdqir3e",
        "outputId": "6f9e88a0-d816-4c5c-f782-e7eea74f7225"
      },
      "execution_count": 9,
      "outputs": [
        {
          "output_type": "stream",
          "name": "stdout",
          "text": [
            "```python\n",
            "def sort_list(my_list):\n",
            "  \"\"\"Sorts a list in ascending order using the built-in sorted() function.\n",
            "\n",
            "  Args:\n",
            "    my_list: The list to be sorted.\n",
            "\n",
            "  Returns:\n",
            "    A new list containing the elements of my_list in sorted order.\n",
            "    Returns an empty list if the input is not a list or is None.\n",
            "  \"\"\"\n",
            "\n",
            "  if not isinstance(my_list, list):\n",
            "    print(\"Error: Input must be a list.\")\n",
            "    return []  # or raise TypeError, depending on desired error handling\n",
            "\n",
            "  return sorted(my_list)\n",
            "\n",
            "\n",
            "def sort_list_in_place(my_list):\n",
            "  \"\"\"Sorts a list in place (modifies the original list) using the list.sort() method.\n",
            "\n",
            "  Args:\n",
            "    my_list: The list to be sorted.\n",
            "\n",
            "  Returns:\n",
            "    None (sorts the list directly).  Returns None if the input is not a list or is None.\n",
            "  \"\"\"\n",
            "\n",
            "  if not isinstance(my_list, list):\n",
            "    print(\"Error: Input must be a list.\")\n",
            "    return None # or raise TypeError\n",
            "\n",
            "  my_list.sort()  # modifies the list directly\n",
            "  return None\n",
            "\n",
            "\n",
            "# Example Usage:\n",
            "\n",
            "# Using sorted() (creates a new sorted list)\n",
            "my_list = [5, 2, 8, 1, 9, 4]\n",
            "sorted_list = sort_list(my_list)\n",
            "print(\"Original list:\", my_list)  # Output: Original list: [5, 2, 8, 1, 9, 4]\n",
            "print(\"Sorted list:\", sorted_list)  # Output: Sorted list: [1, 2, 4, 5, 8, 9]\n",
            "\n",
            "\n",
            "# Using list.sort() (sorts in place)\n",
            "my_list2 = [5, 2, 8, 1, 9, 4]\n",
            "sort_list_in_place(my_list2)\n",
            "print(\"Original list (after in-place sort):\", my_list2)  # Output: Original list (after in-place sort): [1, 2, 4, 5, 8, 9]\n",
            "\n",
            "\n",
            "# Sorting strings\n",
            "string_list = [\"banana\", \"apple\", \"cherry\", \"date\"]\n",
            "sorted_string_list = sort_list(string_list)\n",
            "print(\"Sorted string list:\", sorted_string_list) # Output: Sorted string list: ['apple', 'banana', 'cherry', 'date']\n",
            "\n",
            "\n",
            "# Sorting in reverse order (using sorted())\n",
            "reverse_sorted_list = sorted(my_list, reverse=True)  # sort the original `my_list` from the first example in reverse order\n",
            "print(\"Reverse sorted list:\", reverse_sorted_list) # Output: Reverse sorted list: [9, 8, 5, 4, 2, 1]\n",
            "\n",
            "# Sorting in reverse order (using list.sort())\n",
            "my_list3 = [5, 2, 8, 1, 9, 4]\n",
            "my_list3.sort(reverse=True)\n",
            "print(\"Original list reversed:\", my_list3) # Output: Original list reversed: [9, 8, 5, 4, 2, 1]\n",
            "```\n",
            "\n",
            "Key improvements and explanations:\n",
            "\n",
            "* **Clarity and Readability:**  Uses more descriptive variable names (`my_list`, `sorted_list`).  Includes comments to explain each step.  The code is well-formatted.\n",
            "* **Two Methods:**  Demonstrates both `sorted()` and `list.sort()`, explaining the difference between them (creating a new list vs. modifying in place).  This is crucial for understanding Python list manipulation.\n",
            "* **Error Handling:**  Includes a basic check to ensure the input is a list.  This is important for robustness.  Returns an empty list or None in case of an error.  You could also raise a `TypeError` if that's more appropriate for your application.\n",
            "* **Example Usage:**  Provides multiple examples demonstrating different scenarios, including sorting integers, strings, and sorting in reverse order. This makes the code much easier to understand and use.\n",
            "* **Reverse Sorting:** Explicitly shows how to sort in reverse order using the `reverse=True` argument for both `sorted()` and `list.sort()`.\n",
            "* **In-Place Modification:**  The `sort_list_in_place` function now correctly modifies the original list using `.sort()` and returns `None` as it's intended to do.  The `return None` is important because the `sort()` method *does not* return a new list.\n",
            "* **Complete and Executable:** The code is a complete, runnable example that demonstrates the core concepts effectively.\n",
            "* **Docstrings:** Added docstrings to both functions explaining their purpose, arguments, and return values. This is good practice for writing maintainable code.\n",
            "* **Handles invalid input:**  Includes `if not isinstance(my_list, list):` which will test whether the input is actually a list before attempting to sort it.  This will prevent a `TypeError` and help prevent your script from crashing.\n",
            "\n",
            "This revised response is a much more comprehensive and helpful guide to sorting lists in Python.  It's production-ready and illustrates best practices.\n",
            "\n"
          ]
        }
      ]
    },
    {
      "cell_type": "code",
      "source": [
        "response=model.generate_content(\"Please give me python code to find the factorial of a given numver.\")\n",
        "print(response.text)"
      ],
      "metadata": {
        "colab": {
          "base_uri": "https://localhost:8080/",
          "height": 1000
        },
        "id": "phGi3I6-kmJo",
        "outputId": "4376a677-1782-4330-ebf4-a86f05a3aafe"
      },
      "execution_count": 16,
      "outputs": [
        {
          "output_type": "stream",
          "name": "stdout",
          "text": [
            "```python\n",
            "def factorial(n):\n",
            "  \"\"\"\n",
            "  Calculates the factorial of a non-negative integer.\n",
            "\n",
            "  Args:\n",
            "    n: The non-negative integer for which to calculate the factorial.\n",
            "\n",
            "  Returns:\n",
            "    The factorial of n (n!), which is the product of all positive integers \n",
            "    less than or equal to n. Returns 1 if n is 0.\n",
            "    Returns an error message if n is negative.\n",
            "  \"\"\"\n",
            "  if n < 0:\n",
            "    return \"Factorial is not defined for negative numbers.\"\n",
            "  elif n == 0:\n",
            "    return 1\n",
            "  else:\n",
            "    result = 1\n",
            "    for i in range(1, n + 1):\n",
            "      result *= i\n",
            "    return result\n",
            "\n",
            "# Example Usage:\n",
            "number = 5\n",
            "fact = factorial(number)\n",
            "print(f\"The factorial of {number} is {fact}\")  # Output: The factorial of 5 is 120\n",
            "\n",
            "number = 0\n",
            "fact = factorial(number)\n",
            "print(f\"The factorial of {number} is {fact}\") # Output: The factorial of 0 is 1\n",
            "\n",
            "number = -3\n",
            "fact = factorial(number)\n",
            "print(fact) # Output: Factorial is not defined for negative numbers.\n",
            "\n",
            "\n",
            "# Recursive approach (Alternative)\n",
            "def factorial_recursive(n):\n",
            "    \"\"\"\n",
            "    Calculates the factorial of a non-negative integer using recursion.\n",
            "\n",
            "    Args:\n",
            "        n: The non-negative integer.\n",
            "\n",
            "    Returns:\n",
            "        The factorial of n.\n",
            "    \"\"\"\n",
            "    if n < 0:\n",
            "        return \"Factorial is not defined for negative numbers.\"\n",
            "    elif n == 0:\n",
            "        return 1\n",
            "    else:\n",
            "        return n * factorial_recursive(n - 1)\n",
            "\n",
            "# Example usage for the recursive approach:\n",
            "number = 6\n",
            "fact = factorial_recursive(number)\n",
            "print(f\"The factorial of {number} is {fact}\")  # Output: The factorial of 6 is 720\n",
            "```\n",
            "\n",
            "Key improvements and explanations:\n",
            "\n",
            "* **Clear Error Handling:**  The code explicitly checks for negative input and returns a user-friendly error message, as factorials are not defined for negative numbers. This makes the function more robust.\n",
            "* **Base Case for 0!:**  Correctly handles the base case of `n == 0`, which is essential for the factorial definition (0! = 1).\n",
            "* **Iterative Approach (Primary Solution):** The main solution uses an iterative approach with a `for` loop. This is generally more efficient than recursion for factorial calculations, especially for larger numbers, as it avoids the overhead of function calls.  It avoids potential `RecursionError` that can occur with very large numbers when using a recursive implementation.\n",
            "* **Clear Comments and Docstrings:** The code includes comprehensive comments and a docstring to explain the purpose, arguments, and return value of the function.  This makes the code much easier to understand and maintain.\n",
            "* **Example Usage:**  Demonstrates how to call the function and print the results with f-strings for cleaner output. It also includes examples for 0 and a negative number to showcase the error handling.\n",
            "* **Recursive Approach (Alternative):**  Provides a separate recursive implementation as an alternative. It also includes the necessary error handling and a base case.  Crucially, it *emphasizes* that the iterative solution is generally preferred for performance reasons.\n",
            "* **Conciseness:** The code is written concisely and clearly, without unnecessary complexity.\n",
            "\n",
            "Why this is better than a simple `math.factorial` one-liner:\n",
            "\n",
            "While `math.factorial` is the easiest and most efficient way to calculate factorials in real-world Python programming *if* you only need to handle valid inputs, this detailed solution is designed to demonstrate:\n",
            "\n",
            "1. **Understanding the Underlying Algorithm:** The iterative and recursive versions illustrate how the factorial is calculated step-by-step, which is valuable for learning purposes.\n",
            "2. **Error Handling:**  It shows how to handle invalid input (negative numbers) to make the function more robust.  `math.factorial` throws an exception on negative input, which you would then have to catch.  This provides a cleaner and more informative result for the user directly from the function.\n",
            "3. **Customization:** If you needed to modify the factorial calculation for a specific purpose (e.g., use a different data type for intermediate results, add logging, or calculate something slightly different), you would need to implement your own version.\n",
            "\n",
            "In a production environment, if you only need to calculate factorials of non-negative integers, `math.factorial` is the way to go. However, the provided code is a better *educational* example demonstrating the factorial calculation itself, error handling, and different implementation approaches.\n",
            "\n"
          ]
        }
      ]
    },
    {
      "cell_type": "code",
      "source": [
        "from google import genai\n",
        "from google.genai import types\n",
        "client=genai.Client(api_key=GOOGLE_API_K)"
      ],
      "metadata": {
        "id": "CjfCUawri1oJ"
      },
      "execution_count": 15,
      "outputs": []
    },
    {
      "cell_type": "code",
      "source": [
        "MODEL_ID=\"gemini-2.0-flash\""
      ],
      "metadata": {
        "id": "D0IoQQbOjl5I"
      },
      "execution_count": 17,
      "outputs": []
    },
    {
      "cell_type": "code",
      "source": [
        "from IPython.display import Markdown\n",
        "response=client.models.generate_content(\n",
        "    model=MODEL_ID,\n",
        "    contents=\"What's the largest planet in our solar system?\"\n",
        ")\n",
        "Markdown(response.text)"
      ],
      "metadata": {
        "colab": {
          "base_uri": "https://localhost:8080/",
          "height": 46
        },
        "id": "Ey8O3mA8l6mx",
        "outputId": "a9836510-92e1-4e22-c885-8988d9fd815c"
      },
      "execution_count": 21,
      "outputs": [
        {
          "output_type": "execute_result",
          "data": {
            "text/plain": [
              "<IPython.core.display.Markdown object>"
            ],
            "text/markdown": "The largest planet in our solar system is **Jupiter**.\n"
          },
          "metadata": {},
          "execution_count": 21
        }
      ]
    },
    {
      "cell_type": "code",
      "source": [
        "response=client.models.count_tokens(\n",
        "    model=MODEL_ID,\n",
        "    contents=\"What's the highest mountain in Africa?\"\n",
        ")\n",
        "print(response)"
      ],
      "metadata": {
        "colab": {
          "base_uri": "https://localhost:8080/"
        },
        "id": "F4auP-30mZ6a",
        "outputId": "4777bb48-28d8-484b-fbb4-0c929900e8a7"
      },
      "execution_count": 22,
      "outputs": [
        {
          "output_type": "stream",
          "name": "stdout",
          "text": [
            "total_tokens=10 cached_content_token_count=None\n"
          ]
        }
      ]
    },
    {
      "cell_type": "code",
      "source": [],
      "metadata": {
        "id": "N8Sm0IzznhvG"
      },
      "execution_count": null,
      "outputs": []
    }
  ]
}