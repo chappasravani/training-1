{
  "nbformat": 4,
  "nbformat_minor": 0,
  "metadata": {
    "colab": {
      "provenance": []
    },
    "kernelspec": {
      "name": "python3",
      "display_name": "Python 3"
    },
    "language_info": {
      "name": "python"
    }
  },
  "cells": [
    {
      "cell_type": "code",
      "execution_count": 3,
      "metadata": {
        "id": "GCcF9Dx_98IR"
      },
      "outputs": [],
      "source": [
        "import google.generativeai as genai\n",
        "from google.colab import userdata\n",
        "GOOGLE_API_KEY=userdata.get('google_API_Key')\n",
        "genai.configure(api_key=GOOGLE_API_KEY)"
      ]
    },
    {
      "cell_type": "code",
      "source": [
        "pip install PyPDF2"
      ],
      "metadata": {
        "colab": {
          "base_uri": "https://localhost:8080/"
        },
        "id": "NL_WOMNH-hps",
        "outputId": "7d650e1e-cdbe-469e-f730-69a34ef619e8"
      },
      "execution_count": 5,
      "outputs": [
        {
          "output_type": "stream",
          "name": "stdout",
          "text": [
            "Collecting PyPDF2\n",
            "  Downloading pypdf2-3.0.1-py3-none-any.whl.metadata (6.8 kB)\n",
            "Downloading pypdf2-3.0.1-py3-none-any.whl (232 kB)\n",
            "\u001b[?25l   \u001b[90m━━━━━━━━━━━━━━━━━━━━━━━━━━━━━━━━━━━━━━━━\u001b[0m \u001b[32m0.0/232.6 kB\u001b[0m \u001b[31m?\u001b[0m eta \u001b[36m-:--:--\u001b[0m\r\u001b[2K   \u001b[90m━━━━━━━━━━━━━━━━━━━━━━━━━━━━━━━━━━━━━━━━\u001b[0m \u001b[32m232.6/232.6 kB\u001b[0m \u001b[31m14.8 MB/s\u001b[0m eta \u001b[36m0:00:00\u001b[0m\n",
            "\u001b[?25hInstalling collected packages: PyPDF2\n",
            "Successfully installed PyPDF2-3.0.1\n"
          ]
        }
      ]
    },
    {
      "cell_type": "code",
      "source": [
        "import PyPDF2\n",
        "def extract_text_from_pdf(pdf_path):\n",
        "  \"\"\"Extracts text from a given health report PDF using  PyPDF2.\"\"\"\n",
        "  text = \"\"\n",
        "  with open(pdf_path, 'rb') as file:\n",
        "    reader= PyPDF2.PdfReader(file)\n",
        "    for page in reader.pages:\n",
        "      text += page.extract_text() + \"\\n\"\n",
        "  return text\n",
        "\n",
        "\n"
      ],
      "metadata": {
        "id": "46qx6qbE-uDR"
      },
      "execution_count": 12,
      "outputs": []
    },
    {
      "cell_type": "code",
      "source": [
        "def extract_health_insights(text):\n",
        "  \"\"\"Asks Gemini  AI to extract health insights from the report.\"\"\"\n",
        "  model=genai.GenerativeModel(\"gemini-1.5-flash\")\n",
        "  prompt=f\"Extract key insights from the following health report:\\n\\n{text}\"\n",
        "  response=model.generate_content(prompt)\n",
        "  return response.text\n",
        "#Example usage\n",
        "df_file=\"health_report.pdf\"\n",
        "extracted_text=extract_text_from_pdf(pdf_file)\n",
        "insights=extract_health_insights(extracted_text)\n",
        "print(\"key Insights:\\n\", insights)"
      ],
      "metadata": {
        "colab": {
          "base_uri": "https://localhost:8080/",
          "height": 471
        },
        "id": "0r7Pl5HxA0g0",
        "outputId": "18bbadcc-efae-4623-a122-cf98a6d8935a"
      },
      "execution_count": 13,
      "outputs": [
        {
          "output_type": "stream",
          "name": "stdout",
          "text": [
            "key Insights:\n",
            " Mr. Kishan Goud's (MR2100003157, IP2100041193) health report from February 1st, 2021, reveals the following key insights:\n",
            "\n",
            "**Infectious Disease Markers:**\n",
            "\n",
            "* **Widal Test:** Elevated titers for *Salmonella Typhi* \"O\" (1:160) and \"H\" (1:80), suggesting possible past or present typhoid fever infection.  The reference range is 1:20, indicating a positive result.  Further investigation might be needed to confirm active infection.  *Salmonella Paratyphi* \"AH\" and \"BH\" titers were within the normal range (1:20).\n",
            "* **Dengue Serology:** Negative results for Dengue NS1 antigen, IgG, and IgM antibodies, ruling out a recent or past dengue fever infection.\n",
            "* **Malaria:** Negative rapid malaria test for both *Plasmodium falciparum* and *Plasmodium vivax*.\n",
            "\n",
            "**Hematological Findings:**\n",
            "\n",
            "* **Complete Blood Picture (CBC):**  All values are within or near the normal range, including hemoglobin, RBC, WBC, platelet count, and PCV.  The differential count also shows normal ranges for neutrophils, lymphocytes, eosinophils, monocytes, and basophils.  Peripheral blood smear review indicated normal RBC morphology and WBC and platelet counts within normal limits.\n",
            "* **Erythrocyte Sedimentation Rate (ESR):** Elevated ESR (26 mm/hr in the first hour, 52 mm/hr in the second hour),  suggesting inflammation or infection.  This warrants further investigation to determine the underlying cause.\n",
            "\n",
            "**Biochemical Findings:**\n",
            "\n",
            "* **Liver Function Tests (LFTs):** All liver function tests (serum bilirubin – total, direct, and indirect; alkaline phosphatase; SGOT; SGPT; total protein; albumin; globulin; A/G ratio) are within the normal range, indicating normal liver function.\n",
            "* **Serum Electrolytes:** Serum sodium (122 mmol/l) is slightly below the lower limit of the normal range (135-146 mmol/l). Serum potassium and chloride are within the normal range.  The low sodium level requires further assessment.\n",
            "* **Renal Function:** Serum creatinine (0.8 mg/dl) is within the normal range (0.6-1.25 mg/dl), indicating normal kidney function.\n",
            "* **Blood Glucose:** Random blood glucose level was not provided.\n",
            "* **HbA1c:** HbA1c level of 5.4% falls within the normal non-diabetic range (4-6%), indicating good blood glucose control.\n",
            "\n",
            "\n",
            "**Overall:** The report shows some abnormalities (elevated ESR and slightly low sodium), warranting further investigation to determine the cause of the inflammation/infection and low sodium. The Widal test results suggest a possible past or present typhoid infection, which should be further evaluated clinically.  All other tested parameters are within the normal range.\n",
            "\n"
          ]
        }
      ]
    },
    {
      "cell_type": "code",
      "source": [
        "def summarize_health_report(text):\n",
        "  \"\"\"Summarizes the health report using  Gemini AI.\"\"\"\n",
        "  model=genai.GenerativeModel(\"gemini-1.5-flash\")\n",
        "  prompt=f\"Summarize the following health report in a concise manner:\\n\\n{text}\"\n",
        "  response=model.generate_content(prompt)\n",
        "  return response.text\n",
        "summary=summarize_health_report(extracted_text)\n",
        "print(\"Summary:\\n\",summary)\n"
      ],
      "metadata": {
        "colab": {
          "base_uri": "https://localhost:8080/",
          "height": 89
        },
        "id": "zJ5hMZhICU2C",
        "outputId": "8c83d5b7-76bb-488b-f46e-94e636ad7154"
      },
      "execution_count": 15,
      "outputs": [
        {
          "output_type": "stream",
          "name": "stdout",
          "text": [
            "Summary:\n",
            " Mr. Kishan Goud's (MRN: MR2100003157) blood tests on 01/02/2021 showed:  Elevated ESR (26/52 mm/hr), slightly low serum sodium (122 mmol/l), and Widal test results suggestive of past exposure to *Salmonella Typhi* (O: 1:160, H: 1:80).  All other tests, including dengue serology, malaria, complete blood count (CBC), HbA1c, liver function tests, and serum electrolytes (except sodium) were within normal ranges.\n",
            "\n"
          ]
        }
      ]
    },
    {
      "cell_type": "code",
      "source": [
        "def detect_abnormalities(text):\n",
        "  \"\"\"Analyzes lab test results and flags abnormal values.\"\"\"\n",
        "  model=genai.GenerativeModel(\"gemini-1.5-flash\")\n",
        "  prompt=f\"Analyze the lab test results in the following health report and highlight any abnormal values:\\n\\n{text}\"\n",
        "  response=model.generate_content(prompt)\n",
        "  return response.text\n",
        "abnormalities=detect_abnormalities(extracted_text)\n",
        "print(\"Potential Abnormalities:\\n\",abnormalities)\n"
      ],
      "metadata": {
        "colab": {
          "base_uri": "https://localhost:8080/",
          "height": 384
        },
        "id": "--pk8kgcFova",
        "outputId": "93adf212-5358-4fb0-acdf-b12273e07612"
      },
      "execution_count": 16,
      "outputs": [
        {
          "output_type": "stream",
          "name": "stdout",
          "text": [
            "Potential Abnormalities:\n",
            " Based on the provided lab results, the following values are outside the reference ranges, indicating potential abnormalities:\n",
            "\n",
            "* **Widal Test:**  S. Typhi \"O\" (1:160) and S. Typhi \"H\" (1:80) are significantly higher than the reference range of 1:20. This suggests a possible past or current *Salmonella Typhi* infection.  The higher \"O\" titer generally indicates a more recent infection than a high \"H\" titer.\n",
            "\n",
            "* **ESR (Erythrocyte Sedimentation Rate):**  Both the 1st hour (26 mm/hr) and 2nd hour (52 mm/hr) values are considerably elevated above the reference range of 0-8 mm/hr for the first hour.  This indicates inflammation or infection somewhere in the body.\n",
            "\n",
            "* **Serum Sodium:** 122 mmol/l is below the reference range of 135-146 mmol/l. This indicates hyponatremia (low sodium levels in the blood), which can have various causes.\n",
            "\n",
            "* **Serum Chloride:** 97 mmol/l is below the reference range of 98-107 mmol/l. This indicates hypochloremia (low chloride levels), often associated with hyponatremia or other electrolyte imbalances.\n",
            "\n",
            "\n",
            "**Values within the reference range but warranting attention in context:**\n",
            "\n",
            "While the following are within the reference ranges, they should be considered alongside the other abnormal findings:\n",
            "\n",
            "* **Lymphocytes:** 31% is at the higher end of the reference range (20-40%).  Elevated lymphocytes can sometimes be a sign of infection.\n",
            "\n",
            "It's crucial to understand that lab results should always be interpreted by a qualified healthcare professional in the context of the patient's clinical presentation, medical history, and other test results. The abnormalities highlighted above require further investigation to determine the underlying cause and appropriate management.  The combination of elevated Widal test, ESR, and low sodium/chloride suggests a serious issue requiring medical attention.\n",
            "\n"
          ]
        }
      ]
    },
    {
      "cell_type": "code",
      "source": [
        "def explain_medical_terms (text):\n",
        "  \"\"\"Asks gemini AI to simplify medical terms for patient understanding.\"\"\"\n",
        "  model=genai.GenerativeModel(\"gemini-1.5-flash\")\n",
        "  prompt=f\"Explain the medical terms in the following health report in simple language:\\n\\n{text}\"\n",
        "  response=model.generate_content(prompt)\n",
        "  return response.text\n",
        "explanation=explain_medical_terms(extracted_text)\n",
        "print(\"Simplified Explanation:\\n\",explanation)\n"
      ],
      "metadata": {
        "colab": {
          "base_uri": "https://localhost:8080/",
          "height": 1000
        },
        "id": "rGRvwQTcHRjI",
        "outputId": "e14a8fa8-fb32-42cd-ad26-23286df88e46"
      },
      "execution_count": 17,
      "outputs": [
        {
          "output_type": "stream",
          "name": "stdout",
          "text": [
            "Simplified Explanation:\n",
            " This report shows the results of various blood tests performed on Mr. Kishan Goud. Let's break down the medical terms:\n",
            "\n",
            "**1. WIDAL Test (for Typhoid Fever):** This test checks for antibodies against *Salmonella Typhi* and *Salmonella Paratyphi*, bacteria that cause typhoid fever.  The numbers (e.g., 1:160, 1:80, 1:20) represent the dilution of the blood sample at which antibodies are still detectable.  Higher numbers suggest a greater likelihood of infection. In this case:\n",
            "\n",
            "* **S. Typhi \"O\" 1:160:** Suggests a possible past or present infection with *Salmonella Typhi*.\n",
            "* **S. Typhi \"H\" 1:80:** Similar to above, but a slightly lower level.\n",
            "* **S. Paratyphi \"AH\" 1:20:**  Within the normal range, suggesting no current infection with this bacteria.\n",
            "* **S. Paratyphi \"BH\" 1:20:**  Within the normal range, suggesting no current infection with this bacteria.\n",
            "\n",
            "\n",
            "**2. Dengue Serology:** This test checks for dengue fever, a viral infection spread by mosquitoes.  The results are all negative, meaning no current dengue infection is detected.\n",
            "\n",
            "* **Dengue NS1 Antigen:** A protein found in the blood during the acute phase of dengue.\n",
            "* **Dengue IgG:** Antibodies that appear later in the infection and indicate past exposure.\n",
            "* **Dengue IgM:** Antibodies that appear early in the infection.\n",
            "\n",
            "**3. Erythrocyte Sedimentation Rate (ESR):**  This measures how quickly red blood cells settle at the bottom of a test tube.  A higher ESR can indicate inflammation in the body. Mr. Goud's ESR is elevated (26 mm/hr in the first hour, 52 mm/hr in the second), suggesting possible inflammation.\n",
            "\n",
            "**4. Rapid Malaria Test:** This test checks for the presence of malaria parasites in the blood.  Both tests (for *Plasmodium falciparum* (P.F) and *Plasmodium vivax* (P.V)) are negative, meaning no malaria infection is detected.\n",
            "\n",
            "**5. Complete Blood Picture (CBC):** This is a comprehensive blood test that includes:\n",
            "\n",
            "* **Hemoglobin (Hb):**  The protein in red blood cells that carries oxygen.  Mr. Goud's level is within the normal range.\n",
            "* **Red Blood Cells (RBC):** The cells that carry oxygen.  His count is slightly low but within a normal range for males.\n",
            "* **White Blood Cells (WBC):** Cells that fight infection.  His count is within the normal range.\n",
            "* **Platelet Count:** Cells that help blood clot.  His count is within the normal range.\n",
            "* **Packed Cell Volume (PCV):** The percentage of red blood cells in the blood. His level is within the normal range.\n",
            "* **Differential Count:** This breaks down the types of white blood cells.  All are within normal ranges.\n",
            "* **Peripheral Blood Smear:** A microscopic examination of the blood.  The report indicates that all components are within the normal limits\n",
            "\n",
            "**6. HbA1c:** This test measures average blood sugar levels over the past 2-3 months.  Mr. Goud's level is within the normal non-diabetic range, indicating good blood sugar control.\n",
            "\n",
            "**7. Serum Creatinine:** This test measures the level of creatinine in the blood, a waste product from muscle metabolism. It's an indicator of kidney function. Mr. Goud's level is within the normal range.\n",
            "\n",
            "**8. Random Blood Glucose:** This measures blood sugar level at a random time.  Mr. Goud's level is within the normal range.\n",
            "\n",
            "**9. Liver Function Test (LFT):**  These tests assess the health of the liver.  All results are within normal limits.  The tests include:\n",
            "\n",
            "* **Serum Bilirubin (Total, Direct, Indirect):** Bilirubin is a byproduct of the breakdown of red blood cells.  Elevated levels can indicate liver problems.\n",
            "* **Serum Alkaline Phosphatase:** An enzyme found in the liver and bones.\n",
            "* **SGOT (AST) and SGPT (ALT):** Liver enzymes; elevated levels indicate liver damage.\n",
            "* **Total Protein and Albumin:** Proteins in the blood; levels help assess liver function.\n",
            "* **Globulin:**  Another protein in the blood.\n",
            "* **A/G Ratio:** The ratio of albumin to globulin.\n",
            "\n",
            "\n",
            "**10. Serum Electrolytes:** These tests measure the levels of essential minerals in the blood:\n",
            "\n",
            "* **Serum Sodium:** Important for fluid balance. Mr. Goud's level is slightly low (hyponatremia).\n",
            "* **Serum Potassium:** Important for muscle function and heart rhythm. His level is within the normal range.\n",
            "* **Serum Chloride:** Important for fluid balance. His level is slightly low (hypochloremia).\n",
            "\n",
            "\n",
            "**Important Note:** I am an AI and cannot give medical advice.  These explanations are for informational purposes only.  Mr. Goud should discuss these results with his doctor, Dr. Krishna Prasad, to understand their implications for his health and receive appropriate medical care.  The slightly low sodium and chloride levels warrant further investigation. The elevated ESR also needs further evaluation to determine the cause of inflammation.\n",
            "\n"
          ]
        }
      ]
    },
    {
      "cell_type": "code",
      "source": [],
      "metadata": {
        "id": "XwPohGQsI-nu"
      },
      "execution_count": null,
      "outputs": []
    }
  ]
}